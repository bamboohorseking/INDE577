{
  "cells": [
    {
      "cell_type": "markdown",
      "metadata": {
        "id": "view-in-github",
        "colab_type": "text"
      },
      "source": [
        "<a href=\"https://colab.research.google.com/github/bamboohorseking/INDE577/blob/main/logistic_regression_assignment.ipynb\" target=\"_parent\"><img src=\"https://colab.research.google.com/assets/colab-badge.svg\" alt=\"Open In Colab\"/></a>"
      ]
    },
    {
      "cell_type": "markdown",
      "source": [
        "---\n",
        "\n",
        "# Logistic Regression\n",
        "\n",
        "## Definition:\n",
        "Logistic regression is a process of modeling the probability of a discrete outcome given an input variable.\n",
        "\n",
        "The most common logistic regression models a binary outcome; something that can take two values such as true/false, yes/no, and so on. Multinomial logistic regression can model scenarios where there are more than two possible discrete outcomes. Logistic regression is a useful analysis method for classification problems, where you are trying to determine if a new sample fits best into a category, and it can also be used to predict the probabilities. \n",
        "\n",
        "Advantages: \n",
        "1. Logistic regression is easier to implement, interpret, and very efficient to train.\n",
        "\n",
        "2. It makes no assumptions about distributions of classes in feature space.\n",
        "\n",
        "3. It can easily extend to multiple classes(multinomial regression) and a natural probabilistic view of class predictions.\n",
        "\n",
        "4. It not only provides a measure of how appropriate a predictor(coefficient size)is, but also its direction of association (positive or negative).\n",
        "\n",
        "5. Good accuracy for many simple data sets and it performs well when the dataset is linearly separable.\n",
        "\n",
        "6. Logistic regression is less inclined to over-fitting but it can overfit in high dimensional datasets.\n",
        "\n",
        "\n",
        "\n",
        "\n",
        "Disadvantages:\n",
        "1. If the number of observations is lesser than the number of features, Logistic Regression should not be used, otherwise, it may lead to overfitting.\n",
        "\n",
        "2. The major limitation of Logistic Regression is the assumption of linearity between the dependent variable and the independent variables.\n",
        "\n",
        "3. It can only be used to predict discrete functions. Hence, the dependent variable of Logistic Regression is bound to the discrete number set.\n",
        "\n",
        "4. Logistic Regression requires average or no multicollinearity between independent variables.\n",
        "\n",
        "5. It is tough to obtain complex relationships using logistic regression. More powerful and compact algorithms such as Neural Networks can easily outperform this algorithm.\n",
        "\n",
        "<img src=\"https://www.saedsayad.com/images/LogReg_1.png\" width=\"700\" height=\"400\">\n",
        "\n",
        "\n",
        "---"
      ],
      "metadata": {
        "id": "jl1Qiv7FBuid"
      },
      "id": "jl1Qiv7FBuid"
    },
    {
      "cell_type": "markdown",
      "source": [
        "---\n",
        "\n",
        "## Description of this project:\n",
        "###The Goal of this project: \n",
        "Given the Red wine infomation, I want to predict the quality of the red wine. We will consider the quality score higher than 6 as Good quality (INDEX = 1), and the quality score lower or equal to 6 is Bad quality(INDEX = 0).\n",
        "\n",
        "First, I will use binary features to make a prediction on the quality of red wine. Two features that I choose is 'density' and 'alcohol'. \n",
        "\n",
        "<img src=\"https://encrypted-tbn0.gstatic.com/images?q=tbn:ANd9GcTObdH1BSFS8vHzG1mJoWACYVQTHxuF_GdFHw&usqp=CAU\" width=\"700\" height=\"300\">\n",
        "\n",
        "In this dataset, each example (X, Y) belongs to one of two complementary classes, and each example are independent of each other. So we need to assume all examples are generated under the same distribution:\n",
        "\n",
        "$$ P(y|x)=\\left\\{\n",
        "\\begin{aligned}\n",
        "\\hat{y}  \\textrm{  if  }  y = 1 \\\\\n",
        "1-\\hat{y}  \\textrm{  if  }  y = 0\n",
        "\\end{aligned}\n",
        "\\right.\n",
        "$$\\\n",
        "\\begin{align}\n",
        "P(y|x) &= (\\hat{y})^y (1 - \\hat{y}) ^{1-y}\\\\\n",
        "logP(y|x) &= (\\hat{y})*y *(1 - \\hat{y}) *{1-y}\n",
        "\\end{align}\n",
        "In here, we want to maximize $logP(y|x)$ which is equivalent to minimize $-logP(y|x)$. \n",
        "\n",
        "### Recall\n",
        "\\begin{align}\n",
        "\\hat{y} &= \\sigma(z)(1 - \\sigma(z))\\\\\n",
        "\\frac{d}{dx}[logf(x)]&= \\frac{1}{f(x)} \\frac{1}{ln10}f'(x)\\\\\n",
        "L(w, y) &= -ylogσ(z) - (1-y) log(1-σ(z))\\\\\n",
        "\\frac{L(w, y)}{dw_{1}} &= \\frac{d}{dw_1} [-ylogσ(z) - (1-y) log(1-σ(z))]\\\\\n",
        "&= -y \\frac{d}{dw_1} logσ(z) - (1-y) \\frac{d}{dw_1}log(1-σ(z))\\\\\n",
        "\\frac{d}{dw_1} logσ(z) &= \\frac{1-σ(z)}{ln10}x_1\\\\\n",
        "\\frac{d}{dw_1}log(1-σ(z)) &= -\\frac{σ(z)}{ln10}x_1\\\\\n",
        "\\frac{L(w, y)}{dw_{1}} &= -\\frac{x_1}{ln10}(σ(z) - y )\\\\\n",
        "&= x_1(\\hat{y} - y)\\\\\n",
        "\\frac{L(w, y)}{dw_{2}} &= x_2(\\hat{y} - y)\\\\\n",
        "\\frac{L(w, y)}{dw_{3}} &= (\\hat{y} - y)\n",
        "\\end{align}\n",
        "The whole procedure of training our neural network:\n",
        "\n",
        "1. Randomly select (x,y) from the training set.\n",
        "\n",
        "2. Feed-Froward into the Neural Network. \n",
        "\n",
        "3. Update Weights and Bias. \n",
        "\\begin{align}\n",
        "w_1 &= w_1 - \\alpha (\\hat{y} - y) x_1\\\\\n",
        "w_2 &= w_2 - \\alpha (\\hat{y} - y) x_2\\\\\n",
        "b &= b - \\alpha (\\hat{y} - y)\n",
        "\\end{align}\n",
        "\n",
        "4. Repeat Steps 1-3 until desired Loss in-sample is reached or the maximum number of steps is reached. \n",
        "---"
      ],
      "metadata": {
        "id": "5KrumuyDMeSH"
      },
      "id": "5KrumuyDMeSH"
    },
    {
      "cell_type": "markdown",
      "source": [
        "---\n",
        "\n",
        "## Data\n",
        "In this assignment, we will explore Logistic Regression method on a dataset named \"Red wine\". It contains 1599 samples,12 columns. Download link is: [link](https://archive.ics.uci.edu/ml/datasets/wine+quality)\n",
        "* fixed acidity\n",
        "* volatile acidity\n",
        "* citric acid\n",
        "* residual sugar\n",
        "* chlorides\n",
        "* free sulfur dioxide\n",
        "* total sulfur dioxide\n",
        "* density\n",
        "* pH\n",
        "* sulphates\n",
        "* alcohol\n",
        "* quality\n",
        "\n",
        "## Packages\n",
        "The following packages will be needed to run the code below:\n",
        "\n",
        "*   matplotlib.pyplot: [documentation](https://matplotlib.org/stable/api/_as_gen/matplotlib.pyplot.html)\n",
        "*   numpy: [documentation](https://numpy.org/devdocs/)\n",
        "*   pandas: [documentation](https://pandas.pydata.org/docs/)\n",
        "*   sklearn: [documentation](https://scikit-learn.org/stable/)\n",
        "\n",
        "\n",
        "---"
      ],
      "metadata": {
        "id": "fUULkmzciGnp"
      },
      "id": "fUULkmzciGnp"
    },
    {
      "cell_type": "code",
      "execution_count": 5,
      "id": "6f17de72",
      "metadata": {
        "id": "6f17de72"
      },
      "outputs": [],
      "source": [
        "import pandas as pd\n",
        "import numpy as np\n",
        "import matplotlib.pyplot as plt \n",
        "\n",
        "\n",
        "%matplotlib inline "
      ]
    },
    {
      "cell_type": "markdown",
      "source": [
        "---\n",
        "\n",
        "\n",
        "## Data Preprocessing\n",
        "\n",
        "\n",
        "---"
      ],
      "metadata": {
        "id": "ikr_6SQ-i0Ua"
      },
      "id": "ikr_6SQ-i0Ua"
    },
    {
      "cell_type": "code",
      "execution_count": 6,
      "id": "47ad5448",
      "metadata": {
        "colab": {
          "base_uri": "https://localhost:8080/",
          "height": 423
        },
        "id": "47ad5448",
        "outputId": "d06494e9-38b6-4b6a-8521-83be369b38d2"
      },
      "outputs": [
        {
          "output_type": "execute_result",
          "data": {
            "text/html": [
              "<div>\n",
              "<style scoped>\n",
              "    .dataframe tbody tr th:only-of-type {\n",
              "        vertical-align: middle;\n",
              "    }\n",
              "\n",
              "    .dataframe tbody tr th {\n",
              "        vertical-align: top;\n",
              "    }\n",
              "\n",
              "    .dataframe thead th {\n",
              "        text-align: right;\n",
              "    }\n",
              "</style>\n",
              "<table border=\"1\" class=\"dataframe\">\n",
              "  <thead>\n",
              "    <tr style=\"text-align: right;\">\n",
              "      <th></th>\n",
              "      <th>fixed acidity</th>\n",
              "      <th>volatile acidity</th>\n",
              "      <th>citric acid</th>\n",
              "      <th>residual sugar</th>\n",
              "      <th>chlorides</th>\n",
              "      <th>free sulfur dioxide</th>\n",
              "      <th>total sulfur dioxide</th>\n",
              "      <th>density</th>\n",
              "      <th>pH</th>\n",
              "      <th>sulphates</th>\n",
              "      <th>alcohol</th>\n",
              "      <th>quality</th>\n",
              "    </tr>\n",
              "  </thead>\n",
              "  <tbody>\n",
              "    <tr>\n",
              "      <th>0</th>\n",
              "      <td>7.4</td>\n",
              "      <td>0.700</td>\n",
              "      <td>0.00</td>\n",
              "      <td>1.9</td>\n",
              "      <td>0.076</td>\n",
              "      <td>11.0</td>\n",
              "      <td>34.0</td>\n",
              "      <td>0.99780</td>\n",
              "      <td>3.51</td>\n",
              "      <td>0.56</td>\n",
              "      <td>9.4</td>\n",
              "      <td>5</td>\n",
              "    </tr>\n",
              "    <tr>\n",
              "      <th>1</th>\n",
              "      <td>7.8</td>\n",
              "      <td>0.880</td>\n",
              "      <td>0.00</td>\n",
              "      <td>2.6</td>\n",
              "      <td>0.098</td>\n",
              "      <td>25.0</td>\n",
              "      <td>67.0</td>\n",
              "      <td>0.99680</td>\n",
              "      <td>3.20</td>\n",
              "      <td>0.68</td>\n",
              "      <td>9.8</td>\n",
              "      <td>5</td>\n",
              "    </tr>\n",
              "    <tr>\n",
              "      <th>2</th>\n",
              "      <td>7.8</td>\n",
              "      <td>0.760</td>\n",
              "      <td>0.04</td>\n",
              "      <td>2.3</td>\n",
              "      <td>0.092</td>\n",
              "      <td>15.0</td>\n",
              "      <td>54.0</td>\n",
              "      <td>0.99700</td>\n",
              "      <td>3.26</td>\n",
              "      <td>0.65</td>\n",
              "      <td>9.8</td>\n",
              "      <td>5</td>\n",
              "    </tr>\n",
              "    <tr>\n",
              "      <th>3</th>\n",
              "      <td>11.2</td>\n",
              "      <td>0.280</td>\n",
              "      <td>0.56</td>\n",
              "      <td>1.9</td>\n",
              "      <td>0.075</td>\n",
              "      <td>17.0</td>\n",
              "      <td>60.0</td>\n",
              "      <td>0.99800</td>\n",
              "      <td>3.16</td>\n",
              "      <td>0.58</td>\n",
              "      <td>9.8</td>\n",
              "      <td>6</td>\n",
              "    </tr>\n",
              "    <tr>\n",
              "      <th>4</th>\n",
              "      <td>7.4</td>\n",
              "      <td>0.700</td>\n",
              "      <td>0.00</td>\n",
              "      <td>1.9</td>\n",
              "      <td>0.076</td>\n",
              "      <td>11.0</td>\n",
              "      <td>34.0</td>\n",
              "      <td>0.99780</td>\n",
              "      <td>3.51</td>\n",
              "      <td>0.56</td>\n",
              "      <td>9.4</td>\n",
              "      <td>5</td>\n",
              "    </tr>\n",
              "    <tr>\n",
              "      <th>...</th>\n",
              "      <td>...</td>\n",
              "      <td>...</td>\n",
              "      <td>...</td>\n",
              "      <td>...</td>\n",
              "      <td>...</td>\n",
              "      <td>...</td>\n",
              "      <td>...</td>\n",
              "      <td>...</td>\n",
              "      <td>...</td>\n",
              "      <td>...</td>\n",
              "      <td>...</td>\n",
              "      <td>...</td>\n",
              "    </tr>\n",
              "    <tr>\n",
              "      <th>1594</th>\n",
              "      <td>6.2</td>\n",
              "      <td>0.600</td>\n",
              "      <td>0.08</td>\n",
              "      <td>2.0</td>\n",
              "      <td>0.090</td>\n",
              "      <td>32.0</td>\n",
              "      <td>44.0</td>\n",
              "      <td>0.99490</td>\n",
              "      <td>3.45</td>\n",
              "      <td>0.58</td>\n",
              "      <td>10.5</td>\n",
              "      <td>5</td>\n",
              "    </tr>\n",
              "    <tr>\n",
              "      <th>1595</th>\n",
              "      <td>5.9</td>\n",
              "      <td>0.550</td>\n",
              "      <td>0.10</td>\n",
              "      <td>2.2</td>\n",
              "      <td>0.062</td>\n",
              "      <td>39.0</td>\n",
              "      <td>51.0</td>\n",
              "      <td>0.99512</td>\n",
              "      <td>3.52</td>\n",
              "      <td>0.76</td>\n",
              "      <td>11.2</td>\n",
              "      <td>6</td>\n",
              "    </tr>\n",
              "    <tr>\n",
              "      <th>1596</th>\n",
              "      <td>6.3</td>\n",
              "      <td>0.510</td>\n",
              "      <td>0.13</td>\n",
              "      <td>2.3</td>\n",
              "      <td>0.076</td>\n",
              "      <td>29.0</td>\n",
              "      <td>40.0</td>\n",
              "      <td>0.99574</td>\n",
              "      <td>3.42</td>\n",
              "      <td>0.75</td>\n",
              "      <td>11.0</td>\n",
              "      <td>6</td>\n",
              "    </tr>\n",
              "    <tr>\n",
              "      <th>1597</th>\n",
              "      <td>5.9</td>\n",
              "      <td>0.645</td>\n",
              "      <td>0.12</td>\n",
              "      <td>2.0</td>\n",
              "      <td>0.075</td>\n",
              "      <td>32.0</td>\n",
              "      <td>44.0</td>\n",
              "      <td>0.99547</td>\n",
              "      <td>3.57</td>\n",
              "      <td>0.71</td>\n",
              "      <td>10.2</td>\n",
              "      <td>5</td>\n",
              "    </tr>\n",
              "    <tr>\n",
              "      <th>1598</th>\n",
              "      <td>6.0</td>\n",
              "      <td>0.310</td>\n",
              "      <td>0.47</td>\n",
              "      <td>3.6</td>\n",
              "      <td>0.067</td>\n",
              "      <td>18.0</td>\n",
              "      <td>42.0</td>\n",
              "      <td>0.99549</td>\n",
              "      <td>3.39</td>\n",
              "      <td>0.66</td>\n",
              "      <td>11.0</td>\n",
              "      <td>6</td>\n",
              "    </tr>\n",
              "  </tbody>\n",
              "</table>\n",
              "<p>1599 rows × 12 columns</p>\n",
              "</div>"
            ],
            "text/plain": [
              "      fixed acidity  volatile acidity  citric acid  ...  sulphates  alcohol  quality\n",
              "0               7.4             0.700         0.00  ...       0.56      9.4        5\n",
              "1               7.8             0.880         0.00  ...       0.68      9.8        5\n",
              "2               7.8             0.760         0.04  ...       0.65      9.8        5\n",
              "3              11.2             0.280         0.56  ...       0.58      9.8        6\n",
              "4               7.4             0.700         0.00  ...       0.56      9.4        5\n",
              "...             ...               ...          ...  ...        ...      ...      ...\n",
              "1594            6.2             0.600         0.08  ...       0.58     10.5        5\n",
              "1595            5.9             0.550         0.10  ...       0.76     11.2        6\n",
              "1596            6.3             0.510         0.13  ...       0.75     11.0        6\n",
              "1597            5.9             0.645         0.12  ...       0.71     10.2        5\n",
              "1598            6.0             0.310         0.47  ...       0.66     11.0        6\n",
              "\n",
              "[1599 rows x 12 columns]"
            ]
          },
          "metadata": {},
          "execution_count": 6
        }
      ],
      "source": [
        "wine = pd.read_csv('winequality-red.csv',\n",
        "                 sep=';',\n",
        "                 error_bad_lines=False,\n",
        "                 engine='python')\n",
        "wine"
      ]
    },
    {
      "cell_type": "code",
      "execution_count": 7,
      "id": "9b0c9a0d",
      "metadata": {
        "colab": {
          "base_uri": "https://localhost:8080/",
          "height": 423
        },
        "id": "9b0c9a0d",
        "outputId": "69612b7b-903b-45ed-942f-3a94941f703b"
      },
      "outputs": [
        {
          "output_type": "execute_result",
          "data": {
            "text/html": [
              "<div>\n",
              "<style scoped>\n",
              "    .dataframe tbody tr th:only-of-type {\n",
              "        vertical-align: middle;\n",
              "    }\n",
              "\n",
              "    .dataframe tbody tr th {\n",
              "        vertical-align: top;\n",
              "    }\n",
              "\n",
              "    .dataframe thead th {\n",
              "        text-align: right;\n",
              "    }\n",
              "</style>\n",
              "<table border=\"1\" class=\"dataframe\">\n",
              "  <thead>\n",
              "    <tr style=\"text-align: right;\">\n",
              "      <th></th>\n",
              "      <th>density</th>\n",
              "      <th>alcohol</th>\n",
              "      <th>quality</th>\n",
              "    </tr>\n",
              "  </thead>\n",
              "  <tbody>\n",
              "    <tr>\n",
              "      <th>0</th>\n",
              "      <td>0.99780</td>\n",
              "      <td>9.4</td>\n",
              "      <td>5</td>\n",
              "    </tr>\n",
              "    <tr>\n",
              "      <th>1</th>\n",
              "      <td>0.99680</td>\n",
              "      <td>9.8</td>\n",
              "      <td>5</td>\n",
              "    </tr>\n",
              "    <tr>\n",
              "      <th>2</th>\n",
              "      <td>0.99700</td>\n",
              "      <td>9.8</td>\n",
              "      <td>5</td>\n",
              "    </tr>\n",
              "    <tr>\n",
              "      <th>3</th>\n",
              "      <td>0.99800</td>\n",
              "      <td>9.8</td>\n",
              "      <td>6</td>\n",
              "    </tr>\n",
              "    <tr>\n",
              "      <th>4</th>\n",
              "      <td>0.99780</td>\n",
              "      <td>9.4</td>\n",
              "      <td>5</td>\n",
              "    </tr>\n",
              "    <tr>\n",
              "      <th>...</th>\n",
              "      <td>...</td>\n",
              "      <td>...</td>\n",
              "      <td>...</td>\n",
              "    </tr>\n",
              "    <tr>\n",
              "      <th>1594</th>\n",
              "      <td>0.99490</td>\n",
              "      <td>10.5</td>\n",
              "      <td>5</td>\n",
              "    </tr>\n",
              "    <tr>\n",
              "      <th>1595</th>\n",
              "      <td>0.99512</td>\n",
              "      <td>11.2</td>\n",
              "      <td>6</td>\n",
              "    </tr>\n",
              "    <tr>\n",
              "      <th>1596</th>\n",
              "      <td>0.99574</td>\n",
              "      <td>11.0</td>\n",
              "      <td>6</td>\n",
              "    </tr>\n",
              "    <tr>\n",
              "      <th>1597</th>\n",
              "      <td>0.99547</td>\n",
              "      <td>10.2</td>\n",
              "      <td>5</td>\n",
              "    </tr>\n",
              "    <tr>\n",
              "      <th>1598</th>\n",
              "      <td>0.99549</td>\n",
              "      <td>11.0</td>\n",
              "      <td>6</td>\n",
              "    </tr>\n",
              "  </tbody>\n",
              "</table>\n",
              "<p>1599 rows × 3 columns</p>\n",
              "</div>"
            ],
            "text/plain": [
              "      density  alcohol  quality\n",
              "0     0.99780      9.4        5\n",
              "1     0.99680      9.8        5\n",
              "2     0.99700      9.8        5\n",
              "3     0.99800      9.8        6\n",
              "4     0.99780      9.4        5\n",
              "...       ...      ...      ...\n",
              "1594  0.99490     10.5        5\n",
              "1595  0.99512     11.2        6\n",
              "1596  0.99574     11.0        6\n",
              "1597  0.99547     10.2        5\n",
              "1598  0.99549     11.0        6\n",
              "\n",
              "[1599 rows x 3 columns]"
            ]
          },
          "metadata": {},
          "execution_count": 7
        }
      ],
      "source": [
        "data = wine[['density', 'alcohol', 'quality']]\n",
        "data"
      ]
    },
    {
      "cell_type": "markdown",
      "source": [
        "---\n",
        "\n",
        "Convert the quality column to 0 and 1 based on the previous quality score. \n",
        "\n",
        "---"
      ],
      "metadata": {
        "id": "deIwxpm8i8o8"
      },
      "id": "deIwxpm8i8o8"
    },
    {
      "cell_type": "code",
      "source": [
        "data['quality'] = np.where(data['quality'] > 6, 1, 0)\n",
        "data['quality'].value_counts()"
      ],
      "metadata": {
        "colab": {
          "base_uri": "https://localhost:8080/"
        },
        "id": "zF14cJRKCUdN",
        "outputId": "3182f63a-ff70-4ccc-81e5-2809ff603c17"
      },
      "id": "zF14cJRKCUdN",
      "execution_count": 8,
      "outputs": [
        {
          "output_type": "stream",
          "name": "stderr",
          "text": [
            "/usr/local/lib/python3.7/dist-packages/ipykernel_launcher.py:1: SettingWithCopyWarning: \n",
            "A value is trying to be set on a copy of a slice from a DataFrame.\n",
            "Try using .loc[row_indexer,col_indexer] = value instead\n",
            "\n",
            "See the caveats in the documentation: https://pandas.pydata.org/pandas-docs/stable/user_guide/indexing.html#returning-a-view-versus-a-copy\n",
            "  \"\"\"Entry point for launching an IPython kernel.\n"
          ]
        },
        {
          "output_type": "execute_result",
          "data": {
            "text/plain": [
              "0    1382\n",
              "1     217\n",
              "Name: quality, dtype: int64"
            ]
          },
          "metadata": {},
          "execution_count": 8
        }
      ]
    },
    {
      "cell_type": "code",
      "source": [
        "X = data[['density', 'alcohol']].to_numpy()"
      ],
      "metadata": {
        "id": "zKKy1sHVCUsG"
      },
      "id": "zKKy1sHVCUsG",
      "execution_count": 9,
      "outputs": []
    },
    {
      "cell_type": "code",
      "source": [
        "Y = data['quality'].to_numpy()"
      ],
      "metadata": {
        "id": "nCkrVDDiCUuH"
      },
      "id": "nCkrVDDiCUuH",
      "execution_count": 10,
      "outputs": []
    },
    {
      "cell_type": "markdown",
      "source": [
        "---\n",
        "\n",
        "Plot the data set to see the distribution of the data points. \n",
        "\n",
        "---"
      ],
      "metadata": {
        "id": "UUBO4bQNjJgN"
      },
      "id": "UUBO4bQNjJgN"
    },
    {
      "cell_type": "code",
      "execution_count": 11,
      "id": "9e726cd6",
      "metadata": {
        "id": "9e726cd6"
      },
      "outputs": [],
      "source": [
        "# You're going to have to figure out what this stuff is by playing with it!\n",
        "#X[:, 0] = X[:, 0]/np.linalg.norm(X[:, 0])\n",
        "#X[:, 1] = X[:, 1]/np.linalg.norm(X[:, 1])\n",
        "\n",
        "#X[:, 0] = (X[:, 0] - np.min(X[:, 0]))/(np.max(X[:, 0] - np.min(X[:, 0])))\n",
        "#X[:, 1] = (X[:, 1] - np.min(X[:, 1]))/(np.max(X[:, 1] - np.min(X[:, 1])))"
      ]
    },
    {
      "cell_type": "code",
      "execution_count": 12,
      "id": "b7ef1ff9",
      "metadata": {
        "colab": {
          "base_uri": "https://localhost:8080/",
          "height": 391
        },
        "id": "b7ef1ff9",
        "outputId": "7bfba505-601b-43b8-b2ee-4ffd797728d8"
      },
      "outputs": [
        {
          "output_type": "execute_result",
          "data": {
            "text/plain": [
              "<matplotlib.collections.PathCollection at 0x7fec4560ad10>"
            ]
          },
          "metadata": {},
          "execution_count": 12
        },
        {
          "output_type": "display_data",
          "data": {
            "image/png": "[encoded data removed]",
            "text/plain": [
              "<Figure size 720x432 with 1 Axes>"
            ]
          },
          "metadata": {
            "needs_background": "light"
          }
        }
      ],
      "source": [
        "plt.figure(figsize=(10, 6))\n",
        "plt.scatter(X[:, 0], X[:, 1], c = Y)"
      ]
    },
    {
      "cell_type": "code",
      "execution_count": 13,
      "id": "eee13ede",
      "metadata": {
        "colab": {
          "base_uri": "https://localhost:8080/",
          "height": 405
        },
        "id": "eee13ede",
        "outputId": "1ab3cccc-4c0a-4b9e-e5ac-729b077e93bc"
      },
      "outputs": [
        {
          "output_type": "execute_result",
          "data": {
            "text/plain": [
              "Text(0, 0.5, 'Good quality or Bad quality')"
            ]
          },
          "metadata": {},
          "execution_count": 13
        },
        {
          "output_type": "display_data",
          "data": {
            "image/png": "[encoded data removed]",
            "text/plain": [
              "<Figure size 720x432 with 1 Axes>"
            ]
          },
          "metadata": {
            "needs_background": "light"
          }
        }
      ],
      "source": [
        "plt.figure(figsize=(10, 6))\n",
        "plt.scatter(X[:, 0], Y, c = Y)\n",
        "plt.xlabel(\"density\")\n",
        "plt.ylabel(\"Good quality or Bad quality\")"
      ]
    },
    {
      "cell_type": "markdown",
      "source": [
        "---\n",
        "\n",
        "Plot the sigmoid function that we defined. \n",
        "\n",
        "\n",
        "---"
      ],
      "metadata": {
        "id": "5y9Xzdt4kBuk"
      },
      "id": "5y9Xzdt4kBuk"
    },
    {
      "cell_type": "code",
      "execution_count": 14,
      "id": "2a5c96be",
      "metadata": {
        "colab": {
          "base_uri": "https://localhost:8080/",
          "height": 391
        },
        "id": "2a5c96be",
        "outputId": "c37c66e7-b117-4069-c0e0-b63c2e97706d"
      },
      "outputs": [
        {
          "output_type": "execute_result",
          "data": {
            "text/plain": [
              "[<matplotlib.lines.Line2D at 0x7fec435ae590>]"
            ]
          },
          "metadata": {},
          "execution_count": 14
        },
        {
          "output_type": "display_data",
          "data": {
            "image/png": "[encoded data removed]",
            "text/plain": [
              "<Figure size 720x432 with 1 Axes>"
            ]
          },
          "metadata": {
            "needs_background": "light"
          }
        }
      ],
      "source": [
        "def sigmoid(z):\n",
        "    return 1.0/(1.0 + np.exp(-z))\n",
        "\n",
        "domain = np.arange(-10, 10, .25)\n",
        "plt.figure(figsize=(10, 6))\n",
        "plt.plot(domain, sigmoid(domain))"
      ]
    },
    {
      "cell_type": "markdown",
      "source": [
        "---\n",
        "\n",
        "Define the Loss function which derivation has been shown in the begining of this project.\n",
        "\n",
        "---"
      ],
      "metadata": {
        "id": "9tv0Td86kNiR"
      },
      "id": "9tv0Td86kNiR"
    },
    {
      "cell_type": "code",
      "execution_count": 15,
      "id": "d144da67",
      "metadata": {
        "id": "d144da67"
      },
      "outputs": [],
      "source": [
        "def cross_entropy_loss(y, y_hat):\n",
        "    return -y*np.log(y_hat) - (1.0-y)*np.log(1.0-y_hat)"
      ]
    },
    {
      "cell_type": "code",
      "execution_count": 16,
      "id": "d3ebb713",
      "metadata": {
        "colab": {
          "base_uri": "https://localhost:8080/"
        },
        "id": "d3ebb713",
        "outputId": "9e6c4beb-5ae2-4eb3-af8d-397434b5b54e"
      },
      "outputs": [
        {
          "output_type": "execute_result",
          "data": {
            "text/plain": [
              "0.6931471805599453"
            ]
          },
          "metadata": {},
          "execution_count": 16
        }
      ],
      "source": [
        "cross_entropy_loss(1.0, .5)"
      ]
    },
    {
      "cell_type": "markdown",
      "source": [
        "---\n",
        "\n",
        "\n",
        "Define derivative of the loss entropy loss and also define a feed forward function (feed into sigmoid function)\n",
        "\n",
        "\n",
        "---"
      ],
      "metadata": {
        "id": "ZJRJ4abNkXGr"
      },
      "id": "ZJRJ4abNkXGr"
    },
    {
      "cell_type": "code",
      "execution_count": 17,
      "id": "8ac0f670",
      "metadata": {
        "id": "8ac0f670"
      },
      "outputs": [],
      "source": [
        "def cross_entropy_gradient(y, y_hat, x, with_bias = True):\n",
        "    if with_bias == True:\n",
        "        dw = (y_hat - y)*x\n",
        "        db = (y_hat - y)\n",
        "        return dw, db \n",
        "    \n",
        "def feed_forward(x, w, b, with_bias = True):\n",
        "    if with_bias == True:\n",
        "        return sigmoid(w @ x + b)"
      ]
    },
    {
      "cell_type": "code",
      "execution_count": 18,
      "id": "b6c84903",
      "metadata": {
        "colab": {
          "base_uri": "https://localhost:8080/"
        },
        "id": "b6c84903",
        "outputId": "62a25902-e5e9-49d3-c2d2-027934cd1e59"
      },
      "outputs": [
        {
          "output_type": "execute_result",
          "data": {
            "text/plain": [
              "0.00011898056799628018"
            ]
          },
          "metadata": {},
          "execution_count": 18
        }
      ],
      "source": [
        "w = np.random.randn(2)\n",
        "b = np.random.randn()\n",
        "alpha = 0.25\n",
        "feed_forward(X[0], w, b)"
      ]
    },
    {
      "cell_type": "markdown",
      "source": [
        "---\n",
        "\n",
        "\n",
        "## Implement Stochastic Gradient Descent \n",
        "\n",
        "\n",
        "\n",
        "---"
      ],
      "metadata": {
        "id": "g5TKogHLklyx"
      },
      "id": "g5TKogHLklyx"
    },
    {
      "cell_type": "code",
      "execution_count": 19,
      "id": "83923b8a",
      "metadata": {
        "colab": {
          "base_uri": "https://localhost:8080/"
        },
        "id": "83923b8a",
        "outputId": "1c1c34e8-1e0d-41c1-9db1-0a4003ba7215"
      },
      "outputs": [
        {
          "output_type": "stream",
          "name": "stdout",
          "text": [
            "Total Loss at time 1 = 1406.8942545195557\n",
            "Total Loss at time 1001 = 932.1085992787926\n",
            "Total Loss at time 2001 = 726.8650272109475\n",
            "Total Loss at time 3001 = 1249.1362288050566\n",
            "Total Loss at time 4001 = 695.9682530650757\n",
            "Total Loss at time 5001 = 597.9458206476671\n",
            "Total Loss at time 6001 = 704.9817388330472\n",
            "Total Loss at time 7001 = 569.0249371461099\n",
            "Total Loss at time 8001 = 545.0116315466527\n",
            "Total Loss at time 9001 = 723.3653350315864\n"
          ]
        }
      ],
      "source": [
        "# Implement Stochastic Gradient Descent \n",
        "for j in range(10_000):\n",
        "    i = np.random.randint(len(Y))\n",
        "    x = X[i, :]\n",
        "    y = Y[i]\n",
        "    temp_dw = []\n",
        "    temp_db = []\n",
        "    for x, y in zip(X, Y):\n",
        "        y_hat = feed_forward(x, w, b)\n",
        "        dw, db = cross_entropy_gradient(y, y_hat, x)\n",
        "        #w -= alpha*dw\n",
        "        #b -= alpha*db\n",
        "        temp_dw.append(dw)\n",
        "        temp_db.append(db)\n",
        "        \n",
        "    dw = sum(temp_dw)/len(temp_dw)\n",
        "    db = sum(temp_db)/len(temp_db)\n",
        "    w -= alpha*dw\n",
        "    b -= alpha*db\n",
        "    \n",
        "    total_loss = sum(cross_entropy_loss(Y[i], feed_forward(x, w, b))\n",
        "                    for i, x in enumerate(X))\n",
        "    if j % 1_000 == 0:\n",
        "        print(f\"Total Loss at time {j+1} = {total_loss}\")"
      ]
    },
    {
      "cell_type": "markdown",
      "source": [
        "---\n",
        "\n",
        "\n",
        "Define Prediction function\n",
        "\n",
        "\n",
        "\n",
        "---"
      ],
      "metadata": {
        "id": "QTVfhVGGlfMa"
      },
      "id": "QTVfhVGGlfMa"
    },
    {
      "cell_type": "code",
      "execution_count": 20,
      "id": "3536a7af",
      "metadata": {
        "id": "3536a7af"
      },
      "outputs": [],
      "source": [
        "def make_prediction(x, w, b):\n",
        "    y_hat = feed_forward(x, w, b)\n",
        "    labels = np.array([1, 0])\n",
        "    return np.random.choice(labels, p = [y_hat, 1.0-y_hat])"
      ]
    },
    {
      "cell_type": "markdown",
      "source": [
        "---\n",
        "\n",
        "\n",
        "Make a Prediction on the test data, and see if the predictions and actual data have an agreement.\n",
        "\n",
        "\n",
        "---"
      ],
      "metadata": {
        "id": "2ciLFg66llW3"
      },
      "id": "2ciLFg66llW3"
    },
    {
      "cell_type": "code",
      "execution_count": 21,
      "id": "1e358f04",
      "metadata": {
        "colab": {
          "base_uri": "https://localhost:8080/"
        },
        "id": "1e358f04",
        "outputId": "16864331-946b-42f4-a064-0f0c0f9e42da"
      },
      "outputs": [
        {
          "output_type": "stream",
          "name": "stdout",
          "text": [
            "Classification Percentage = 86.24140087554721%\n"
          ]
        }
      ],
      "source": [
        "hits = 0\n",
        "for x, y in zip(X, Y):\n",
        "    y_hat = make_prediction(x, w, b)\n",
        "    hits += int(y_hat == y)\n",
        "print(f\"Classification Percentage = {100* (hits/len(Y))}%\")"
      ]
    },
    {
      "cell_type": "markdown",
      "source": [
        "---\n",
        "\n",
        "#Logistic Regression with all features\n",
        "\n",
        "\n",
        "\n",
        "---"
      ],
      "metadata": {
        "id": "10a3o22ZNcCJ"
      },
      "id": "10a3o22ZNcCJ"
    },
    {
      "cell_type": "code",
      "source": [
        "from sklearn.preprocessing import StandardScaler\n",
        "from sklearn.preprocessing import LabelEncoder\n",
        "from sklearn.linear_model import LogisticRegression\n",
        "from sklearn.model_selection import train_test_split"
      ],
      "metadata": {
        "id": "EKkWBV88OBQ-"
      },
      "id": "EKkWBV88OBQ-",
      "execution_count": 23,
      "outputs": []
    },
    {
      "cell_type": "code",
      "source": [
        "col = wine.columns\n",
        "X = wine[col[:-1]].to_numpy()"
      ],
      "metadata": {
        "id": "18wzGKCGPZdS"
      },
      "id": "18wzGKCGPZdS",
      "execution_count": 38,
      "outputs": []
    },
    {
      "cell_type": "code",
      "source": [
        "Y = wine[col[-1]].to_numpy()"
      ],
      "metadata": {
        "id": "vSkFM4DuP--t"
      },
      "id": "vSkFM4DuP--t",
      "execution_count": 36,
      "outputs": []
    },
    {
      "cell_type": "code",
      "source": [
        "\n",
        "X_train,X_test,Y_train,Y_test=train_test_split(X,Y,test_size=0.20, shuffle=True)"
      ],
      "metadata": {
        "id": "rvaPvMphN1AD"
      },
      "id": "rvaPvMphN1AD",
      "execution_count": 39,
      "outputs": []
    },
    {
      "cell_type": "code",
      "source": [
        "scalar=StandardScaler()\n",
        "X_train=scalar.fit_transform(X_train)\n",
        "X_test=scalar.fit_transform(X_test)"
      ],
      "metadata": {
        "id": "b6Vg6mU_LqrW"
      },
      "id": "b6Vg6mU_LqrW",
      "execution_count": 40,
      "outputs": []
    },
    {
      "cell_type": "code",
      "execution_count": 41,
      "id": "26308263",
      "metadata": {
        "id": "26308263",
        "colab": {
          "base_uri": "https://localhost:8080/"
        },
        "outputId": "4fa8de43-0972-446a-b11d-69e3bfad9338"
      },
      "outputs": [
        {
          "output_type": "stream",
          "name": "stdout",
          "text": [
            "accuracy = 60.3125%\n"
          ]
        }
      ],
      "source": [
        "regressor=LogisticRegression(solver='saga', multi_class='multinomial',max_iter=1000)\n",
        "regressor.fit(X_train,Y_train)\n",
        "\n",
        "score=regressor.score(X_test,Y_test)\n",
        "print(f'accuracy = {100 * score}%')"
      ]
    },
    {
      "cell_type": "markdown",
      "source": [
        "According to the result we can find out that if we use all feature to make prediction, the accuracy becomes much lower than the accuracy of using only 2 features. Therefore, we can know that not all features are relevant to the outcome. "
      ],
      "metadata": {
        "id": "bayiWX0xPO1e"
      },
      "id": "bayiWX0xPO1e"
    }
  ],
  "metadata": {
    "kernelspec": {
      "display_name": "Python 3 (ipykernel)",
      "language": "python",
      "name": "python3"
    },
    "language_info": {
      "codemirror_mode": {
        "name": "ipython",
        "version": 3
      },
      "file_extension": ".py",
      "mimetype": "text/x-python",
      "name": "python",
      "nbconvert_exporter": "python",
      "pygments_lexer": "ipython3",
      "version": "3.9.5"
    },
    "colab": {
      "name": "logistic_regression_assignment.ipynb",
      "provenance": [],
      "collapsed_sections": [],
      "include_colab_link": true
    }
  },
  "nbformat": 4,
  "nbformat_minor": 5
}
