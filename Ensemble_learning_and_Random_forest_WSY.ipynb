{
  "cells": [
    {
      "cell_type": "markdown",
      "metadata": {
        "id": "view-in-github",
        "colab_type": "text"
      },
      "source": [
        "<a href=\"https://colab.research.google.com/github/bamboohorseking/INDE577/blob/main/Ensemble_learning_and_Random_forest_WSY.ipynb\" target=\"_parent\"><img src=\"https://colab.research.google.com/assets/colab-badge.svg\" alt=\"Open In Colab\"/></a>"
      ]
    },
    {
      "cell_type": "markdown",
      "metadata": {
        "id": "qDsSBWJPBONk"
      },
      "source": [
        "# Ensemble learning \n",
        "## Definition:\n",
        "Ensemble models combine several models to improve the overall performance. Usually, the weak learners were combined to boost performance. However, the recent results show that combining several strong approaches can also result in a better performance. \n",
        "\n",
        "\n"
      ]
    },
    {
      "cell_type": "markdown",
      "metadata": {
        "id": "FdGjyJZcBONm"
      },
      "source": [
        "\n",
        "<img src=\"https://ohdsi.github.io/PatientLevelPrediction/articles/ensemble.png\">"
      ]
    },
    {
      "cell_type": "markdown",
      "source": [
        "The goal of ensemble methods is to combine the predictions of several base estimators which build with a given learning algorithm resulting in developing generzlizability and robustness. \n",
        "\n",
        "Two families of ensemble methods are distinguished by:\n",
        "* Averaging methods: build several estimators independently and then average their predictions. Usually, the combined estimator has better performance than any of the single base estimator due to the reduction of variance. \n",
        "\n",
        "* Boosting methods: base estimators are built sequentially. The goal is to combine several weak models to produce a powerful ensemble. \n"
      ],
      "metadata": {
        "id": "V7Kpm2GKD-2a"
      }
    },
    {
      "cell_type": "markdown",
      "source": [
        "## Data\n",
        "In this assignment, we will explore Ensemble Learning and Random Forest algorithm on a dataset named \"Red wine\". It contains 1599 samples,12 columns. Download link is: [link](https://archive.ics.uci.edu/ml/datasets/wine+quality)\n",
        "* fixed acidity\n",
        "* volatile acidity\n",
        "* citric acid\n",
        "* residual sugar\n",
        "* chlorides\n",
        "* free sulfur dioxide\n",
        "* total sulfur dioxide\n",
        "* density\n",
        "* pH\n",
        "* sulphates\n",
        "* alcohol\n",
        "* quality\n",
        "\n",
        "## Packages\n",
        "The following packages will be needed to run the code below:\n",
        "*   matplotlib.pyplot: [documentation](https://matplotlib.org/stable/api/_as_gen/matplotlib.pyplot.html)\n",
        "*   numpy: [documentation](https://numpy.org/devdocs/)\n",
        "*   pandas: [documentation](https://pandas.pydata.org/docs/)\n",
        "*   plotly.express: [documentation](https://plotly.com/python/plotly-express/)\n",
        "*   sklearn: [documentation](https://scikit-learn.org/stable/)\n"
      ],
      "metadata": {
        "id": "ShOxjgd3G4Qi"
      }
    },
    {
      "cell_type": "markdown",
      "source": [
        "## Data Preprocessing"
      ],
      "metadata": {
        "id": "S3BDwAadnCC_"
      }
    },
    {
      "cell_type": "code",
      "execution_count": 13,
      "metadata": {
        "id": "tbTniBCGBONp"
      },
      "outputs": [],
      "source": [
        "import pandas as pd\n",
        "import numpy as np\n",
        "import matplotlib.pyplot as plt \n",
        "import seaborn as sns\n",
        "from sklearn.ensemble import RandomForestClassifier\n",
        "from sklearn.ensemble import VotingClassifier\n",
        "from sklearn.metrics import classification_report\n",
        "from sklearn.tree import DecisionTreeClassifier\n",
        "from sklearn.linear_model import LogisticRegression\n",
        "from sklearn.neighbors import NearestNeighbors\n",
        "from sklearn.neural_network import MLPClassifier\n",
        "from sklearn.model_selection import train_test_split\n",
        "from sklearn import metrics\n",
        "from sklearn.metrics import accuracy_score\n",
        "import seaborn as sns\n",
        "%matplotlib inline "
      ]
    },
    {
      "cell_type": "code",
      "execution_count": 14,
      "metadata": {
        "colab": {
          "base_uri": "https://localhost:8080/",
          "height": 423
        },
        "id": "kTjMLD_OBONs",
        "outputId": "83fc2e10-7b16-40fa-ef26-46fbb3ad291a"
      },
      "outputs": [
        {
          "output_type": "execute_result",
          "data": {
            "text/html": [
              "<div>\n",
              "<style scoped>\n",
              "    .dataframe tbody tr th:only-of-type {\n",
              "        vertical-align: middle;\n",
              "    }\n",
              "\n",
              "    .dataframe tbody tr th {\n",
              "        vertical-align: top;\n",
              "    }\n",
              "\n",
              "    .dataframe thead th {\n",
              "        text-align: right;\n",
              "    }\n",
              "</style>\n",
              "<table border=\"1\" class=\"dataframe\">\n",
              "  <thead>\n",
              "    <tr style=\"text-align: right;\">\n",
              "      <th></th>\n",
              "      <th>fixed acidity</th>\n",
              "      <th>volatile acidity</th>\n",
              "      <th>citric acid</th>\n",
              "      <th>residual sugar</th>\n",
              "      <th>chlorides</th>\n",
              "      <th>free sulfur dioxide</th>\n",
              "      <th>total sulfur dioxide</th>\n",
              "      <th>density</th>\n",
              "      <th>pH</th>\n",
              "      <th>sulphates</th>\n",
              "      <th>alcohol</th>\n",
              "      <th>quality</th>\n",
              "    </tr>\n",
              "  </thead>\n",
              "  <tbody>\n",
              "    <tr>\n",
              "      <th>0</th>\n",
              "      <td>7.4</td>\n",
              "      <td>0.700</td>\n",
              "      <td>0.00</td>\n",
              "      <td>1.9</td>\n",
              "      <td>0.076</td>\n",
              "      <td>11.0</td>\n",
              "      <td>34.0</td>\n",
              "      <td>0.99780</td>\n",
              "      <td>3.51</td>\n",
              "      <td>0.56</td>\n",
              "      <td>9.4</td>\n",
              "      <td>5</td>\n",
              "    </tr>\n",
              "    <tr>\n",
              "      <th>1</th>\n",
              "      <td>7.8</td>\n",
              "      <td>0.880</td>\n",
              "      <td>0.00</td>\n",
              "      <td>2.6</td>\n",
              "      <td>0.098</td>\n",
              "      <td>25.0</td>\n",
              "      <td>67.0</td>\n",
              "      <td>0.99680</td>\n",
              "      <td>3.20</td>\n",
              "      <td>0.68</td>\n",
              "      <td>9.8</td>\n",
              "      <td>5</td>\n",
              "    </tr>\n",
              "    <tr>\n",
              "      <th>2</th>\n",
              "      <td>7.8</td>\n",
              "      <td>0.760</td>\n",
              "      <td>0.04</td>\n",
              "      <td>2.3</td>\n",
              "      <td>0.092</td>\n",
              "      <td>15.0</td>\n",
              "      <td>54.0</td>\n",
              "      <td>0.99700</td>\n",
              "      <td>3.26</td>\n",
              "      <td>0.65</td>\n",
              "      <td>9.8</td>\n",
              "      <td>5</td>\n",
              "    </tr>\n",
              "    <tr>\n",
              "      <th>3</th>\n",
              "      <td>11.2</td>\n",
              "      <td>0.280</td>\n",
              "      <td>0.56</td>\n",
              "      <td>1.9</td>\n",
              "      <td>0.075</td>\n",
              "      <td>17.0</td>\n",
              "      <td>60.0</td>\n",
              "      <td>0.99800</td>\n",
              "      <td>3.16</td>\n",
              "      <td>0.58</td>\n",
              "      <td>9.8</td>\n",
              "      <td>6</td>\n",
              "    </tr>\n",
              "    <tr>\n",
              "      <th>4</th>\n",
              "      <td>7.4</td>\n",
              "      <td>0.700</td>\n",
              "      <td>0.00</td>\n",
              "      <td>1.9</td>\n",
              "      <td>0.076</td>\n",
              "      <td>11.0</td>\n",
              "      <td>34.0</td>\n",
              "      <td>0.99780</td>\n",
              "      <td>3.51</td>\n",
              "      <td>0.56</td>\n",
              "      <td>9.4</td>\n",
              "      <td>5</td>\n",
              "    </tr>\n",
              "    <tr>\n",
              "      <th>...</th>\n",
              "      <td>...</td>\n",
              "      <td>...</td>\n",
              "      <td>...</td>\n",
              "      <td>...</td>\n",
              "      <td>...</td>\n",
              "      <td>...</td>\n",
              "      <td>...</td>\n",
              "      <td>...</td>\n",
              "      <td>...</td>\n",
              "      <td>...</td>\n",
              "      <td>...</td>\n",
              "      <td>...</td>\n",
              "    </tr>\n",
              "    <tr>\n",
              "      <th>1594</th>\n",
              "      <td>6.2</td>\n",
              "      <td>0.600</td>\n",
              "      <td>0.08</td>\n",
              "      <td>2.0</td>\n",
              "      <td>0.090</td>\n",
              "      <td>32.0</td>\n",
              "      <td>44.0</td>\n",
              "      <td>0.99490</td>\n",
              "      <td>3.45</td>\n",
              "      <td>0.58</td>\n",
              "      <td>10.5</td>\n",
              "      <td>5</td>\n",
              "    </tr>\n",
              "    <tr>\n",
              "      <th>1595</th>\n",
              "      <td>5.9</td>\n",
              "      <td>0.550</td>\n",
              "      <td>0.10</td>\n",
              "      <td>2.2</td>\n",
              "      <td>0.062</td>\n",
              "      <td>39.0</td>\n",
              "      <td>51.0</td>\n",
              "      <td>0.99512</td>\n",
              "      <td>3.52</td>\n",
              "      <td>0.76</td>\n",
              "      <td>11.2</td>\n",
              "      <td>6</td>\n",
              "    </tr>\n",
              "    <tr>\n",
              "      <th>1596</th>\n",
              "      <td>6.3</td>\n",
              "      <td>0.510</td>\n",
              "      <td>0.13</td>\n",
              "      <td>2.3</td>\n",
              "      <td>0.076</td>\n",
              "      <td>29.0</td>\n",
              "      <td>40.0</td>\n",
              "      <td>0.99574</td>\n",
              "      <td>3.42</td>\n",
              "      <td>0.75</td>\n",
              "      <td>11.0</td>\n",
              "      <td>6</td>\n",
              "    </tr>\n",
              "    <tr>\n",
              "      <th>1597</th>\n",
              "      <td>5.9</td>\n",
              "      <td>0.645</td>\n",
              "      <td>0.12</td>\n",
              "      <td>2.0</td>\n",
              "      <td>0.075</td>\n",
              "      <td>32.0</td>\n",
              "      <td>44.0</td>\n",
              "      <td>0.99547</td>\n",
              "      <td>3.57</td>\n",
              "      <td>0.71</td>\n",
              "      <td>10.2</td>\n",
              "      <td>5</td>\n",
              "    </tr>\n",
              "    <tr>\n",
              "      <th>1598</th>\n",
              "      <td>6.0</td>\n",
              "      <td>0.310</td>\n",
              "      <td>0.47</td>\n",
              "      <td>3.6</td>\n",
              "      <td>0.067</td>\n",
              "      <td>18.0</td>\n",
              "      <td>42.0</td>\n",
              "      <td>0.99549</td>\n",
              "      <td>3.39</td>\n",
              "      <td>0.66</td>\n",
              "      <td>11.0</td>\n",
              "      <td>6</td>\n",
              "    </tr>\n",
              "  </tbody>\n",
              "</table>\n",
              "<p>1599 rows × 12 columns</p>\n",
              "</div>"
            ],
            "text/plain": [
              "      fixed acidity  volatile acidity  citric acid  ...  sulphates  alcohol  quality\n",
              "0               7.4             0.700         0.00  ...       0.56      9.4        5\n",
              "1               7.8             0.880         0.00  ...       0.68      9.8        5\n",
              "2               7.8             0.760         0.04  ...       0.65      9.8        5\n",
              "3              11.2             0.280         0.56  ...       0.58      9.8        6\n",
              "4               7.4             0.700         0.00  ...       0.56      9.4        5\n",
              "...             ...               ...          ...  ...        ...      ...      ...\n",
              "1594            6.2             0.600         0.08  ...       0.58     10.5        5\n",
              "1595            5.9             0.550         0.10  ...       0.76     11.2        6\n",
              "1596            6.3             0.510         0.13  ...       0.75     11.0        6\n",
              "1597            5.9             0.645         0.12  ...       0.71     10.2        5\n",
              "1598            6.0             0.310         0.47  ...       0.66     11.0        6\n",
              "\n",
              "[1599 rows x 12 columns]"
            ]
          },
          "metadata": {},
          "execution_count": 14
        }
      ],
      "source": [
        "wine = pd.read_csv('winequality-red.csv',\n",
        "                 sep=';',\n",
        "                 error_bad_lines=False,\n",
        "                 engine='python')\n",
        "wine"
      ]
    },
    {
      "cell_type": "markdown",
      "source": [
        "## Visualization \n",
        "We set residual sugar and alcohol as X data and quality 5 and 6 as y. Then plot the scatter plot.   "
      ],
      "metadata": {
        "id": "VWIgpxwxKyfu"
      }
    },
    {
      "cell_type": "code",
      "execution_count": 15,
      "metadata": {
        "colab": {
          "base_uri": "https://localhost:8080/",
          "height": 405
        },
        "id": "zg4pmDVDBONt",
        "outputId": "61f00b42-0f5a-498d-dd1d-dac379f97fd7"
      },
      "outputs": [
        {
          "output_type": "execute_result",
          "data": {
            "text/plain": [
              "Text(0, 0.5, 'alcohol')"
            ]
          },
          "metadata": {},
          "execution_count": 15
        },
        {
          "output_type": "display_data",
          "data": {
            "image/png": "[encoded data removed]",
            "text/plain": [
              "<Figure size 720x432 with 1 Axes>"
            ]
          },
          "metadata": {
            "needs_background": "light"
          }
        }
      ],
      "source": [
        "X = wine[['density', 'alcohol']].to_numpy()\n",
        "y = wine[\"quality\"].to_numpy()\n",
        "plt.figure(figsize=(10,6))\n",
        "plt.scatter(X[y==5][:,0],X[y==5][:,1])\n",
        "plt.scatter(X[y==6][:,0],X[y==6][:,1])\n",
        "plt.xlabel('density')\n",
        "plt.ylabel('alcohol')"
      ]
    },
    {
      "cell_type": "markdown",
      "source": [
        "# Random Forest\n",
        "## Definition: \n",
        "Random forest is a consensus algorithm used in supervised machine learning (ML) to solve regression and classification problems. Each random forest is comprised of multiple decision trees that work together as an ensemble to produce one prediction. \n",
        "\n"
      ],
      "metadata": {
        "id": "6MAXsErtMajc"
      }
    },
    {
      "cell_type": "code",
      "execution_count": 16,
      "metadata": {
        "id": "c23WPoPbBONu"
      },
      "outputs": [],
      "source": [
        "X_train,X_test,y_train,y_test=train_test_split(X,\n",
        "                                              y,\n",
        "                                              test_size=0.2,\n",
        "                                              random_state=42)"
      ]
    },
    {
      "cell_type": "code",
      "source": [
        "clf=RandomForestClassifier()\n",
        "clf.fit(X_train,y_train)\n",
        "clf.score(X_test,y_test)"
      ],
      "metadata": {
        "colab": {
          "base_uri": "https://localhost:8080/"
        },
        "id": "wUs4SY1_MYnc",
        "outputId": "6b0da304-3c1c-4fad-b653-5ef9edcfaa9b"
      },
      "execution_count": 17,
      "outputs": [
        {
          "output_type": "execute_result",
          "data": {
            "text/plain": [
              "0.590625"
            ]
          },
          "metadata": {},
          "execution_count": 17
        }
      ]
    },
    {
      "cell_type": "markdown",
      "source": [
        "We split the dataset into training set and testing set. "
      ],
      "metadata": {
        "id": "vnRxxwyVMwZh"
      }
    },
    {
      "cell_type": "markdown",
      "source": [
        "Here we combine logistic regression, MLP and random forest."
      ],
      "metadata": {
        "id": "IkUre9JLMExj"
      }
    },
    {
      "cell_type": "code",
      "execution_count": 18,
      "metadata": {
        "id": "PfDuDHAfBONu"
      },
      "outputs": [],
      "source": [
        "log_clf=LogisticRegression()\n",
        "mlp_clf=MLPClassifier()\n",
        "rand_clf=RandomForestClassifier()\n",
        "\n",
        "voting_clf=VotingClassifier([('lr',log_clf),\n",
        "                            ('mlp',mlp_clf),\n",
        "                            ('rf',rand_clf)],voting=\"hard\")"
      ]
    },
    {
      "cell_type": "code",
      "execution_count": 19,
      "metadata": {
        "colab": {
          "base_uri": "https://localhost:8080/"
        },
        "id": "qEv4QR1EBONu",
        "outputId": "0f12fea7-20d3-4199-cf7d-6708c662d327"
      },
      "outputs": [
        {
          "output_type": "execute_result",
          "data": {
            "text/plain": [
              "VotingClassifier(estimators=[('lr', LogisticRegression()),\n",
              "                             ('mlp', MLPClassifier()),\n",
              "                             ('rf', RandomForestClassifier())])"
            ]
          },
          "metadata": {},
          "execution_count": 19
        }
      ],
      "source": [
        "import warnings\n",
        "warnings.filterwarnings('ignore')\n",
        "voting_clf.fit(X_train,y_train)"
      ]
    },
    {
      "cell_type": "code",
      "execution_count": 20,
      "metadata": {
        "colab": {
          "base_uri": "https://localhost:8080/"
        },
        "id": "PN7VMsC6BONv",
        "outputId": "4b690a4e-e9d1-4bc0-b684-74682c03f6dc"
      },
      "outputs": [
        {
          "output_type": "stream",
          "name": "stdout",
          "text": [
            "LogisticRegression,accuracy score=0.540625\n",
            "MLPClassifier,accuracy score=0.553125\n",
            "RandomForestClassifier,accuracy score=0.596875\n",
            "VotingClassifier,accuracy score=0.5375\n"
          ]
        }
      ],
      "source": [
        "for clf in [log_clf,mlp_clf,rand_clf,voting_clf]:\n",
        "    clf.fit(X_train,y_train)\n",
        "    y_pred=clf.predict(X_test)\n",
        "    print(f'{clf.__class__.__name__},accuracy score={accuracy_score(y_test,y_pred)}')"
      ]
    },
    {
      "cell_type": "markdown",
      "source": [
        "Unfortunately, the voting classifier has the highest accuracy score. MLP classifier has the lowest accuracy score. "
      ],
      "metadata": {
        "id": "5yOh5oKNM6kE"
      }
    },
    {
      "cell_type": "markdown",
      "metadata": {
        "id": "YjfaSl5lBONv"
      },
      "source": [
        "# Bagging\n",
        "## Definition:\n",
        "Bagging also known as bootstrop aggregation. It is used to deal with bias-variance trade-offs and reduces the variance of a prediction model.In bagging, we select the random sample from training dataset without replacement. \n",
        "\n",
        "Advantages of bagging:\n",
        "* Minimizes the overfitting of data\n",
        "* It improves the model's accuracy\n",
        "* Deal with higher dimensional data efficiently. \n",
        "\n",
        "\n"
      ]
    },
    {
      "cell_type": "markdown",
      "source": [
        "<img src=https://www.simplilearn.com/ice9/free_resources_article_thumb/Bagging.PNG>"
      ],
      "metadata": {
        "id": "GgcnTJBiPgWk"
      }
    },
    {
      "cell_type": "markdown",
      "source": [
        "We use baggingclassifier by following code:"
      ],
      "metadata": {
        "id": "wyLRUqCfPyZn"
      }
    },
    {
      "cell_type": "code",
      "execution_count": 21,
      "metadata": {
        "id": "BXiuW3-CBONv"
      },
      "outputs": [],
      "source": [
        "from sklearn.ensemble import BaggingClassifier\n",
        "from sklearn.tree import DecisionTreeClassifier\n",
        "bag_clf=BaggingClassifier(DecisionTreeClassifier(),\n",
        "                          n_estimators=500,\n",
        "                         max_samples=100,\n",
        "                         bootstrap=True,\n",
        "                         n_jobs=-1)"
      ]
    },
    {
      "cell_type": "code",
      "execution_count": 22,
      "metadata": {
        "id": "rgRPpo_9BONw",
        "outputId": "8d72e490-9d2f-4c6e-f1e5-30ed4f6c1825",
        "colab": {
          "base_uri": "https://localhost:8080/"
        }
      },
      "outputs": [
        {
          "output_type": "execute_result",
          "data": {
            "text/plain": [
              "BaggingClassifier(base_estimator=DecisionTreeClassifier(), max_samples=100,\n",
              "                  n_estimators=500, n_jobs=-1)"
            ]
          },
          "metadata": {},
          "execution_count": 22
        }
      ],
      "source": [
        "bag_clf.fit(X_train,y_train)"
      ]
    },
    {
      "cell_type": "code",
      "execution_count": 23,
      "metadata": {
        "id": "X3EjMV9EBONw"
      },
      "outputs": [],
      "source": [
        "y_pred=bag_clf.predict(X_test)"
      ]
    },
    {
      "cell_type": "code",
      "execution_count": 24,
      "metadata": {
        "id": "hjGfcc4fBONw",
        "outputId": "4ff89f9d-9b21-4454-f5d3-857b0d1b1f96",
        "colab": {
          "base_uri": "https://localhost:8080/"
        }
      },
      "outputs": [
        {
          "output_type": "execute_result",
          "data": {
            "text/plain": [
              "0.565625"
            ]
          },
          "metadata": {},
          "execution_count": 24
        }
      ],
      "source": [
        "accuracy_score(y_test,y_pred)"
      ]
    },
    {
      "cell_type": "markdown",
      "source": [
        "The accuracy score of bagging is 0.566 which smaller than MLP classifier 0.553. Thus, MLP classifier method has the lowest accuracy score compared to other methods, but the difference between those methods are not very large. "
      ],
      "metadata": {
        "id": "AgN5-1eMP9nx"
      }
    }
  ],
  "metadata": {
    "kernelspec": {
      "display_name": "Python 3",
      "language": "python",
      "name": "python3"
    },
    "language_info": {
      "codemirror_mode": {
        "name": "ipython",
        "version": 3
      },
      "file_extension": ".py",
      "mimetype": "text/x-python",
      "name": "python",
      "nbconvert_exporter": "python",
      "pygments_lexer": "ipython3",
      "version": "3.8.5"
    },
    "colab": {
      "name": "Ensemble learning and Random forest-WSY.ipynb",
      "provenance": [],
      "collapsed_sections": [],
      "include_colab_link": true
    }
  },
  "nbformat": 4,
  "nbformat_minor": 0
}